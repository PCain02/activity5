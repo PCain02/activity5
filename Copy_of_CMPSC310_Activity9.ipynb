{
  "nbformat": 4,
  "nbformat_minor": 0,
  "metadata": {
    "colab": {
      "provenance": [],
      "collapsed_sections": [
        "zi2b_MpKSA8v"
      ],
      "include_colab_link": true
    },
    "kernelspec": {
      "name": "python3",
      "display_name": "Python 3"
    },
    "language_info": {
      "name": "python"
    }
  },
  "cells": [
    {
      "cell_type": "markdown",
      "metadata": {
        "id": "view-in-github",
        "colab_type": "text"
      },
      "source": [
        "<a href=\"https://colab.research.google.com/github/PCain02/activity5/blob/main/Copy_of_CMPSC310_Activity9.ipynb\" target=\"_parent\"><img src=\"https://colab.research.google.com/assets/colab-badge.svg\" alt=\"Open In Colab\"/></a>"
      ]
    },
    {
      "cell_type": "markdown",
      "source": [],
      "metadata": {
        "id": "3Iz-GlK2OJ5Y"
      }
    },
    {
      "cell_type": "markdown",
      "source": [
        "# **Activity 9: Image Manipulation **\n"
      ],
      "metadata": {
        "id": "vcrrIOhGjS0Z"
      }
    },
    {
      "cell_type": "markdown",
      "source": [
        "##Making Shapes and using Bitwise"
      ],
      "metadata": {
        "id": "zi2b_MpKSA8v"
      }
    },
    {
      "cell_type": "markdown",
      "source": [
        "Create a rectangles using numpy arrays"
      ],
      "metadata": {
        "id": "ovWU1iGhOmrR"
      }
    },
    {
      "cell_type": "code",
      "source": [
        "import numpy as np \n",
        "import cv2\n",
        "\n",
        "rect = np.zeros((300,300), dtype=\"uint8\")\n",
        "cv2.rectangle(rect,  (25,25), (275,275), 255, -1)\n",
        "cv2.imwrite(\"bitwise/Rectangle.png\",rect)"
      ],
      "metadata": {
        "id": "YVsXBM5DN_et",
        "colab": {
          "base_uri": "https://localhost:8080/"
        },
        "outputId": "78f7c928-cdfe-4571-cd67-2088ed5c5afe"
      },
      "execution_count": 3,
      "outputs": [
        {
          "output_type": "execute_result",
          "data": {
            "text/plain": [
              "True"
            ]
          },
          "metadata": {},
          "execution_count": 3
        }
      ]
    },
    {
      "cell_type": "markdown",
      "source": [
        "Draw a circle"
      ],
      "metadata": {
        "id": "oQDlRcnoPoU8"
      }
    },
    {
      "cell_type": "code",
      "source": [
        "circ = np.zeros((300,300), dtype=\"uint8\")\n",
        "cv2.circle(circ,(150,150), 150, 255, -1)\n",
        "cv2.imwrite(\"bitwise/Circle.png\",circ)"
      ],
      "metadata": {
        "colab": {
          "base_uri": "https://localhost:8080/"
        },
        "id": "NeGavsyTPmzL",
        "outputId": "7795b470-8ca0-405a-8684-6e83013b3531"
      },
      "execution_count": 4,
      "outputs": [
        {
          "output_type": "execute_result",
          "data": {
            "text/plain": [
              "True"
            ]
          },
          "metadata": {},
          "execution_count": 4
        }
      ]
    },
    {
      "cell_type": "markdown",
      "source": [
        "Take the union of the rectangle and circle bitwise and"
      ],
      "metadata": {
        "id": "zwWDLq5wQSU9"
      }
    },
    {
      "cell_type": "code",
      "source": [
        "bitwiseAnd = cv2.bitwise_and(rect, circ)\n",
        "cv2.imwrite(\"bitwise/AND.png\", bitwiseAnd)"
      ],
      "metadata": {
        "colab": {
          "base_uri": "https://localhost:8080/"
        },
        "id": "oHpkxExXQFuQ",
        "outputId": "2118188f-a8bf-49b7-91df-0d1be1b4770d"
      },
      "execution_count": 6,
      "outputs": [
        {
          "output_type": "execute_result",
          "data": {
            "text/plain": [
              "True"
            ]
          },
          "metadata": {},
          "execution_count": 6
        }
      ]
    },
    {
      "cell_type": "markdown",
      "source": [
        "Bitwise or"
      ],
      "metadata": {
        "id": "F_amKANtQsnJ"
      }
    },
    {
      "cell_type": "code",
      "source": [
        "bitwiseOr = cv2.bitwise_or(rect, circ)\n",
        "cv2.imwrite(\"bitwise/OR.png\", bitwiseOr)"
      ],
      "metadata": {
        "colab": {
          "base_uri": "https://localhost:8080/"
        },
        "id": "VCvkxbPsQeeh",
        "outputId": "6063b4d0-8fdf-4006-94c3-cc613c7ffaae"
      },
      "execution_count": 8,
      "outputs": [
        {
          "output_type": "execute_result",
          "data": {
            "text/plain": [
              "True"
            ]
          },
          "metadata": {},
          "execution_count": 8
        }
      ]
    },
    {
      "cell_type": "markdown",
      "source": [
        "bitwise XOR"
      ],
      "metadata": {
        "id": "cJVNurH0Q5Y8"
      }
    },
    {
      "cell_type": "code",
      "source": [
        "bitwiseXor = cv2.bitwise_xor(rect, circ)\n",
        "cv2.imwrite(\"bitwise/XOR.png\", bitwiseXor)"
      ],
      "metadata": {
        "colab": {
          "base_uri": "https://localhost:8080/"
        },
        "id": "60h4j8DGQvnv",
        "outputId": "04451bfd-b64e-4cdc-dd30-7a1b5868c17e"
      },
      "execution_count": 9,
      "outputs": [
        {
          "output_type": "execute_result",
          "data": {
            "text/plain": [
              "True"
            ]
          },
          "metadata": {},
          "execution_count": 9
        }
      ]
    },
    {
      "cell_type": "markdown",
      "source": [
        "Bitwise not"
      ],
      "metadata": {
        "id": "_FPTtomxQ7fy"
      }
    },
    {
      "cell_type": "code",
      "source": [
        "bitwiseNot = cv2.bitwise_not(rect, circ)\n",
        "cv2.imwrite(\"bitwise/NOT.png\", bitwiseNot)"
      ],
      "metadata": {
        "colab": {
          "base_uri": "https://localhost:8080/"
        },
        "id": "FRAU0y7-Q4vY",
        "outputId": "e8805085-9c6c-44e4-9d9f-c1b5920eddfd"
      },
      "execution_count": 10,
      "outputs": [
        {
          "output_type": "execute_result",
          "data": {
            "text/plain": [
              "True"
            ]
          },
          "metadata": {},
          "execution_count": 10
        }
      ]
    },
    {
      "cell_type": "markdown",
      "source": [
        "##Masking \n",
        "Used when you only want a certain part of an image"
      ],
      "metadata": {
        "id": "KVK0YUa6RzYY"
      }
    },
    {
      "cell_type": "code",
      "source": [
        "import numpy as np \n",
        "import cv2\n",
        "\n",
        "image = cv2.imread(\"images/flint1.jpg\")\n",
        "print(image.shap)\n",
        "\n",
        "mask = np.zeros(image.shape[:2], dtype=\"uint8\")\n"
      ],
      "metadata": {
        "id": "Wfqo6UoyR6Cy"
      },
      "execution_count": null,
      "outputs": []
    },
    {
      "cell_type": "code",
      "source": [
        "from google.colab import drive\n",
        "drive.mount('/content/drive')"
      ],
      "metadata": {
        "id": "m1PhFbauTyYB"
      },
      "execution_count": null,
      "outputs": []
    }
  ]
}