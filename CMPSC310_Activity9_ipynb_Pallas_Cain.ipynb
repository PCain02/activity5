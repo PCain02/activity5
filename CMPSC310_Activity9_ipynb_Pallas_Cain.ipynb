{
  "nbformat": 4,
  "nbformat_minor": 0,
  "metadata": {
    "colab": {
      "provenance": [],
      "include_colab_link": true
    },
    "kernelspec": {
      "name": "python3",
      "display_name": "Python 3"
    },
    "language_info": {
      "name": "python"
    }
  },
  "cells": [
    {
      "cell_type": "markdown",
      "metadata": {
        "id": "view-in-github",
        "colab_type": "text"
      },
      "source": [
        "<a href=\"https://colab.research.google.com/github/PCain02/activity5/blob/main/CMPSC310_Activity9_ipynb_Pallas_Cain.ipynb\" target=\"_parent\"><img src=\"https://colab.research.google.com/assets/colab-badge.svg\" alt=\"Open In Colab\"/></a>"
      ]
    },
    {
      "cell_type": "markdown",
      "source": [],
      "metadata": {
        "id": "3Iz-GlK2OJ5Y"
      }
    },
    {
      "cell_type": "markdown",
      "source": [
        "# **Activity 9: Image Manipulation **\n"
      ],
      "metadata": {
        "id": "vcrrIOhGjS0Z"
      }
    },
    {
      "cell_type": "markdown",
      "source": [
        "##Making Shapes and using Bitwise"
      ],
      "metadata": {
        "id": "zi2b_MpKSA8v"
      }
    },
    {
      "cell_type": "markdown",
      "source": [
        "Create a rectangles using numpy arrays"
      ],
      "metadata": {
        "id": "ovWU1iGhOmrR"
      }
    },
    {
      "cell_type": "code",
      "source": [
        "import numpy as np \n",
        "import cv2\n",
        "\n",
        "rect = np.zeros((300,300), dtype=\"uint8\")\n",
        "cv2.rectangle(rect,  (25,25), (275,275), 255, -1)\n",
        "cv2.imwrite(\"bitwise/Rectangle.png\",rect)"
      ],
      "metadata": {
        "id": "YVsXBM5DN_et",
        "colab": {
          "base_uri": "https://localhost:8080/"
        },
        "outputId": "60517847-50e4-452e-ba14-aac5334507a6"
      },
      "execution_count": null,
      "outputs": [
        {
          "output_type": "execute_result",
          "data": {
            "text/plain": [
              "False"
            ]
          },
          "metadata": {},
          "execution_count": 5
        }
      ]
    },
    {
      "cell_type": "markdown",
      "source": [
        "Draw a circle"
      ],
      "metadata": {
        "id": "oQDlRcnoPoU8"
      }
    },
    {
      "cell_type": "code",
      "source": [
        "circ = np.zeros((300,300), dtype=\"uint8\")\n",
        "cv2.circle(circ,(150,150), 150, 255, -1)\n",
        "cv2.imwrite(\"bitwise/Circle.png\",circ)"
      ],
      "metadata": {
        "colab": {
          "base_uri": "https://localhost:8080/"
        },
        "id": "NeGavsyTPmzL",
        "outputId": "48105bcf-5d6c-44de-ff61-42bccbd6bc21"
      },
      "execution_count": null,
      "outputs": [
        {
          "output_type": "execute_result",
          "data": {
            "text/plain": [
              "False"
            ]
          },
          "metadata": {},
          "execution_count": 6
        }
      ]
    },
    {
      "cell_type": "markdown",
      "source": [
        "Take the union of the rectangle and circle bitwise and"
      ],
      "metadata": {
        "id": "zwWDLq5wQSU9"
      }
    },
    {
      "cell_type": "code",
      "source": [
        "bitwiseAnd = cv2.bitwise_and(rect, circ)\n",
        "cv2.imwrite(\"bitwise/AND.png\", bitwiseAnd)"
      ],
      "metadata": {
        "colab": {
          "base_uri": "https://localhost:8080/"
        },
        "id": "oHpkxExXQFuQ",
        "outputId": "b5ac835b-b2a7-4cbc-9cc4-25541d4a7d30"
      },
      "execution_count": null,
      "outputs": [
        {
          "output_type": "execute_result",
          "data": {
            "text/plain": [
              "False"
            ]
          },
          "metadata": {},
          "execution_count": 7
        }
      ]
    },
    {
      "cell_type": "markdown",
      "source": [
        "Bitwise or"
      ],
      "metadata": {
        "id": "F_amKANtQsnJ"
      }
    },
    {
      "cell_type": "code",
      "source": [
        "bitwiseOr = cv2.bitwise_or(rect, circ)\n",
        "cv2.imwrite(\"bitwise/OR.png\", bitwiseOr)"
      ],
      "metadata": {
        "colab": {
          "base_uri": "https://localhost:8080/"
        },
        "id": "VCvkxbPsQeeh",
        "outputId": "656c44f8-33d5-49b4-da92-2b03ca02d2b2"
      },
      "execution_count": null,
      "outputs": [
        {
          "output_type": "execute_result",
          "data": {
            "text/plain": [
              "False"
            ]
          },
          "metadata": {},
          "execution_count": 8
        }
      ]
    },
    {
      "cell_type": "markdown",
      "source": [
        "bitwise XOR"
      ],
      "metadata": {
        "id": "cJVNurH0Q5Y8"
      }
    },
    {
      "cell_type": "code",
      "source": [
        "bitwiseXor = cv2.bitwise_xor(rect, circ)\n",
        "cv2.imwrite(\"bitwise/XOR.png\", bitwiseXor)"
      ],
      "metadata": {
        "colab": {
          "base_uri": "https://localhost:8080/"
        },
        "id": "60h4j8DGQvnv",
        "outputId": "4805080a-18cd-4e2a-d068-b8461d1e0611"
      },
      "execution_count": null,
      "outputs": [
        {
          "output_type": "execute_result",
          "data": {
            "text/plain": [
              "False"
            ]
          },
          "metadata": {},
          "execution_count": 9
        }
      ]
    },
    {
      "cell_type": "markdown",
      "source": [
        "Bitwise not"
      ],
      "metadata": {
        "id": "_FPTtomxQ7fy"
      }
    },
    {
      "cell_type": "code",
      "source": [
        "bitwiseNot = cv2.bitwise_not(rect, circ)\n",
        "cv2.imwrite(\"bitwise/NOT.png\", bitwiseNot)"
      ],
      "metadata": {
        "colab": {
          "base_uri": "https://localhost:8080/"
        },
        "id": "FRAU0y7-Q4vY",
        "outputId": "8e90220c-d0dc-44f3-d37a-c3624ae3e6f5"
      },
      "execution_count": null,
      "outputs": [
        {
          "output_type": "execute_result",
          "data": {
            "text/plain": [
              "False"
            ]
          },
          "metadata": {},
          "execution_count": 10
        }
      ]
    },
    {
      "cell_type": "markdown",
      "source": [
        "##Masking \n",
        "Used when you only want a certain part of an image"
      ],
      "metadata": {
        "id": "KVK0YUa6RzYY"
      }
    },
    {
      "cell_type": "markdown",
      "source": [
        "Mount to Google Drive"
      ],
      "metadata": {
        "id": "P3LDfQY6c-b-"
      }
    },
    {
      "cell_type": "code",
      "source": [
        "from google.colab import drive\n",
        "drive.mount('/content/drive')"
      ],
      "metadata": {
        "id": "m1PhFbauTyYB",
        "colab": {
          "base_uri": "https://localhost:8080/"
        },
        "outputId": "c9372b7d-6177-4a2b-bb57-7513fc3e4f15"
      },
      "execution_count": null,
      "outputs": [
        {
          "output_type": "stream",
          "name": "stdout",
          "text": [
            "Mounted at /content/drive\n"
          ]
        }
      ]
    },
    {
      "cell_type": "markdown",
      "source": [
        "Reads in image of flint from drive. Will make mask the size of the image.\n",
        "Crops it making a rectangle around focus. Rectangle only needs two points top left and bottom right. We divide by 2 to make points in the center.\n",
        "\n",
        "Estimate the rectangle spot, in this case 75  and fill with white"
      ],
      "metadata": {
        "id": "qcELOriceS8t"
      }
    },
    {
      "cell_type": "code",
      "source": [
        "import numpy as np \n",
        "import cv2\n",
        "\n",
        "image = cv2.imread(\"/content/drive/My Drive/Colab Notebooks/CMPSC 310/flint1.jpg\")\n",
        "print(image.shape)\n",
        "\n",
        "mask = np.zeros(image.shape[:2], dtype=\"uint8\")\n",
        "(cX, cY)= (image.shape[1] // 2, image.shape[0]//2)\n",
        "cv2.rectangle(mask, (cX-75, cY-75),(cX + 75, cY +75), 255, -1)\n",
        "cv2.imwrite(\"mask1.png\", mask)\n",
        "\n",
        "# use mask on flint\n",
        "masked = cv2.bitwise_and(image, image, mask=mask)\n",
        "cv2.imwrite(\"masked1.png\", masked)\n",
        "cv2.imwrite(\"/content/drive/My Drive/Colab Notebooks/CMPSC 310/masked1.png\", masked)"
      ],
      "metadata": {
        "id": "Wfqo6UoyR6Cy",
        "colab": {
          "base_uri": "https://localhost:8080/"
        },
        "outputId": "46ed7503-b53a-46af-a3ed-51f5b67470d2"
      },
      "execution_count": 29,
      "outputs": [
        {
          "output_type": "stream",
          "name": "stdout",
          "text": [
            "(467, 350, 3)\n"
          ]
        },
        {
          "output_type": "execute_result",
          "data": {
            "text/plain": [
              "True"
            ]
          },
          "metadata": {},
          "execution_count": 29
        }
      ]
    },
    {
      "cell_type": "markdown",
      "source": [
        "Instead of rectangle mask, draw circle mask and save to drive"
      ],
      "metadata": {
        "id": "1prZapmwgbXV"
      }
    },
    {
      "cell_type": "code",
      "source": [
        "import numpy as np \n",
        "import cv2\n",
        "\n",
        "image = cv2.imread(\"/content/drive/My Drive/Colab Notebooks/CMPSC 310/flint1.jpg\")\n",
        "print(image.shape)\n",
        "\n",
        "mask = np.zeros(image.shape[:2], dtype=\"uint8\")\n",
        "(cX, cY)= (image.shape[1] // 2, image.shape[0]//2)\n",
        "cv2.circle(mask, (cX, cY), 75, 255, -1)\n",
        "cv2.imwrite(\"mask2.png\", mask)\n",
        "\n",
        "# use mask on flint\n",
        "masked2 = cv2.bitwise_and(image, image, mask=mask)\n",
        "cv2.imwrite(\"masked2.png\", masked2)\n",
        "cv2.imwrite(\"/content/drive/My Drive/Colab Notebooks/CMPSC 310/masked2.png\", masked2)"
      ],
      "metadata": {
        "colab": {
          "base_uri": "https://localhost:8080/"
        },
        "id": "b08G8L5Wgf2s",
        "outputId": "56f13f27-e752-4f9b-f149-84446df8d058"
      },
      "execution_count": 32,
      "outputs": [
        {
          "output_type": "stream",
          "name": "stdout",
          "text": [
            "(467, 350, 3)\n"
          ]
        },
        {
          "output_type": "execute_result",
          "data": {
            "text/plain": [
              "True"
            ]
          },
          "metadata": {},
          "execution_count": 32
        }
      ]
    },
    {
      "cell_type": "markdown",
      "source": [
        "Create a grey version"
      ],
      "metadata": {
        "id": "J4UxjQuOie5l"
      }
    },
    {
      "cell_type": "code",
      "source": [
        "import numpy as np \n",
        "import cv2\n",
        "\n",
        "gray = cv2.cvtColor(masked,cv2.COLOR_BGR2GRAY)\n",
        "cv2.imwrite(\"gray.png\", gray)"
      ],
      "metadata": {
        "colab": {
          "base_uri": "https://localhost:8080/"
        },
        "id": "tN2L0yhIiNt5",
        "outputId": "6482872b-614f-4f3f-9987-2d9b1fddadbe"
      },
      "execution_count": 34,
      "outputs": [
        {
          "output_type": "execute_result",
          "data": {
            "text/plain": [
              "True"
            ]
          },
          "metadata": {},
          "execution_count": 34
        }
      ]
    },
    {
      "cell_type": "markdown",
      "source": [
        "Use a different image"
      ],
      "metadata": {
        "id": "ooIxx0BDi-pT"
      }
    },
    {
      "cell_type": "code",
      "source": [
        "import numpy as np \n",
        "import cv2\n",
        "\n",
        "image = cv2.imread(\"/content/drive/My Drive/Colab Notebooks/CMPSC 310/awards.png\")\n",
        "print(image.shape)\n",
        "\n",
        "mask = np.zeros(image.shape[:2], dtype=\"uint8\")\n",
        "(cX, cY)= (1000,1000)\n",
        "# prof answer (cX, cY)= (image.shape[1] // 10, image.shape[0]//10))\n",
        "cv2.rectangle(mask, (cX-500, cY-400),(cX + 2500, cY +500), 255, -1)\n",
        "# prof answer cv2.rectangle(mask, (cX+200, cY+200),(cX + 3000, cY +1200), 255, -1)\n",
        "cv2.imwrite(\"mask3.png\", mask)\n",
        "\n",
        "# use mask on awards\n",
        "masked3 = cv2.bitwise_and(image, image, mask=mask)\n",
        "cv2.imwrite(\"masked3.png\", masked3)\n",
        "cv2.imwrite(\"/content/drive/My Drive/Colab Notebooks/CMPSC 310/masked3.png\", masked3)"
      ],
      "metadata": {
        "colab": {
          "base_uri": "https://localhost:8080/"
        },
        "id": "pmFtQJuBi8Mp",
        "outputId": "79f2bc18-76a9-4482-b05b-6b1f7b13647f"
      },
      "execution_count": 49,
      "outputs": [
        {
          "output_type": "stream",
          "name": "stdout",
          "text": [
            "(3024, 4032, 3)\n"
          ]
        },
        {
          "output_type": "execute_result",
          "data": {
            "text/plain": [
              "True"
            ]
          },
          "metadata": {},
          "execution_count": 49
        }
      ]
    },
    {
      "cell_type": "markdown",
      "source": [
        "For our images we will have to mask and convert to grey scale"
      ],
      "metadata": {
        "id": "8f6GNqYolyvU"
      }
    }
  ]
}